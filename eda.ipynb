{
 "cells": [
  {
   "cell_type": "code",
   "execution_count": 2,
   "metadata": {},
   "outputs": [],
   "source": [
    "import pandas as pd\n",
    "pd.set_option('display.max_columns', None)\n",
    "import numpy as np\n",
    "import math"
   ]
  },
  {
   "cell_type": "code",
   "execution_count": 3,
   "metadata": {},
   "outputs": [],
   "source": [
    "telecom_df = pd.read_csv('telecom_churn_data.csv')"
   ]
  },
  {
   "cell_type": "code",
   "execution_count": 4,
   "metadata": {},
   "outputs": [
    {
     "name": "stdout",
     "output_type": "stream",
     "text": [
      "<class 'pandas.core.frame.DataFrame'>\n",
      "RangeIndex: 99999 entries, 0 to 99998\n",
      "Columns: 226 entries, mobile_number to sep_vbc_3g\n",
      "dtypes: float64(179), int64(35), object(12)\n",
      "memory usage: 172.4+ MB\n"
     ]
    }
   ],
   "source": [
    "telecom_df.info()\n",
    "#Most are numeric, some of object type. Check these\n"
   ]
  },
  {
   "cell_type": "code",
   "execution_count": 5,
   "metadata": {},
   "outputs": [],
   "source": [
    "#print(telecom_df.select_dtypes(include=['object']).head())\n",
    "#These are all of type data, of format mm/dd/yyyy, conver to dates\n",
    "#for all date columns, keep only the day of the month, since month is present in the\n",
    "#column name, year is common for all.\n",
    "date_columns = list(telecom_df.select_dtypes(include=['object']).columns)\n",
    "for column in date_columns:\n",
    "    telecom_df[column] = pd.to_datetime(telecom_df[column], format='%m/%d/%Y')\n",
    "    telecom_df[column] = telecom_df[column].dt.day"
   ]
  },
  {
   "cell_type": "code",
   "execution_count": 76,
   "metadata": {},
   "outputs": [
    {
     "name": "stdout",
     "output_type": "stream",
     "text": [
      "Data is now at 70th quantile of average recharge for the first 2 months. Total rows remaining: 29944\n"
     ]
    }
   ],
   "source": [
    "#Those who have recharged with an amount more than or equal to X, \n",
    "#where X is the 70th percentile of the average recharge amount in the first two months (the good phase).\n",
    "'''\n",
    "print(telecom_df['total_rech_amt_6'].isnull().sum()) 0;\n",
    "print(telecom_df['total_rech_amt_7'].isnull().sum()) 0;\n",
    "print(telecom_df['total_rech_num_6'].isnull().sum()) 0;\n",
    "print(telecom_df['total_rech_num_7'].isnull().sum()) 0;\n",
    "'''\n",
    "#since, all values for the columns used below are non-nulls, we need not do any imputation here\n",
    "if 'av_rech_67' not in list(telecom_df.columns):\n",
    "    telecom_df['av_rech_67'] =  (telecom_df['total_rech_amt_6']+telecom_df['total_rech_amt_7'])/(telecom_df['total_rech_num_6']+telecom_df['total_rech_num_7'])\n",
    "    avg_70_quantile = telecom_df.av_rech_67.quantile(q=0.7)\n",
    "    telecom_df = telecom_df[telecom_df.av_rech_67>= avg_70_quantile]\n",
    "print ('Data is now at 70th quantile of average recharge for the first 2 months. Total rows remaining: '+ str(len(telecom_df)))\n"
   ]
  },
  {
   "cell_type": "code",
   "execution_count": 77,
   "metadata": {},
   "outputs": [
    {
     "data": {
      "text/plain": [
       "count      227.000000\n",
       "mean      4205.832599\n",
       "std       7207.678037\n",
       "min          0.000000\n",
       "25%          0.000000\n",
       "50%        989.000000\n",
       "75%       2083.000000\n",
       "max      19826.000000\n",
       "dtype: float64"
      ]
     },
     "execution_count": 77,
     "metadata": {},
     "output_type": "execute_result"
    }
   ],
   "source": [
    "telecom_df.isnull().sum().describe()\n",
    "# telecom_df.isnull().sum()>0).sum()\n",
    "# 166 columns with missing values\n",
    "# A lot of values are missing in many colums. Cannot remove such rows. Will have to find a way to impute"
   ]
  },
  {
   "cell_type": "code",
   "execution_count": 78,
   "metadata": {},
   "outputs": [
    {
     "name": "stdout",
     "output_type": "stream",
     "text": [
      "Following columns were removed: \n",
      " ['circle_id', 'loc_og_t2o_mou', 'std_og_t2o_mou', 'loc_ic_t2o_mou', 'last_date_of_month_6', 'last_date_of_month_7', 'last_date_of_month_8', 'last_date_of_month_9', 'std_og_t2c_mou_6', 'std_og_t2c_mou_7', 'std_og_t2c_mou_8', 'std_og_t2c_mou_9', 'std_ic_t2o_mou_6', 'std_ic_t2o_mou_7', 'std_ic_t2o_mou_8', 'std_ic_t2o_mou_9']\n"
     ]
    }
   ],
   "source": [
    "#Find columns with only single non-null value\n",
    "redundant_cols = [col for col in telecom_df.columns if telecom_df[col].nunique()==1]\n",
    "telecom_df = telecom_df.drop(redundant_cols, axis=1)\n",
    "print('Following columns were removed: \\n',redundant_cols)\n"
   ]
  },
  {
   "cell_type": "code",
   "execution_count": 99,
   "metadata": {},
   "outputs": [
    {
     "name": "stdout",
     "output_type": "stream",
     "text": [
      "All nulls in month  6  correspond to no recharges done.\n",
      "All nulls in month  7  correspond to no recharges done.\n",
      "All nulls in month  8  correspond to no recharges done.\n",
      "All nulls in month  9  correspond to no recharges done.\n"
     ]
    }
   ],
   "source": [
    "#Find rows with null dates\n",
    "for month in [6,7,8,9]:\n",
    "    last_rech_col = 'date_of_last_rech_'+str(month)\n",
    "    num_recharges_col = 'total_rech_num_'+str(month)\n",
    "    nullrechdate_df = telecom_df[telecom_df['date_of_last_rech_9'].isnull()]\n",
    "    if (len(nullrechdate_df[~nullrechdate_df.total_rech_num_9==0])>0):\n",
    "        print('Nulls found for date in month:', month)\n",
    "    else:\n",
    "        print('All nulls in month ',month, ' correspond to no recharges done.')\n",
    "    \n",
    "#Hence, nans in date_of_last_rech_ columns are all valid. Giving value > 32 so that we know it is invalid\n",
    "\n",
    "\n",
    "#dates can be changed to categorical values\n",
    "\n",
    "#NaN can be assumed to be Recharge not done \n",
    "\n",
    "# def process(x):\n",
    "#     if type(x) is float:\n",
    "#         return 0\n",
    "#     else: \n",
    "#         return 1\n",
    "\n",
    "# for col in dc:\n",
    "#     dat[col] = dat[col].apply(process)"
   ]
  },
  {
   "cell_type": "code",
   "execution_count": 1,
   "metadata": {},
   "outputs": [
    {
     "ename": "NameError",
     "evalue": "name 'telecom_df' is not defined",
     "output_type": "error",
     "traceback": [
      "\u001b[0;31m---------------------------------------------------------------------------\u001b[0m",
      "\u001b[0;31mNameError\u001b[0m                                 Traceback (most recent call last)",
      "\u001b[0;32m<ipython-input-1-5ee9da4b258d>\u001b[0m in \u001b[0;36m<module>\u001b[0;34m()\u001b[0m\n\u001b[0;32m----> 1\u001b[0;31m \u001b[0mtelecom_df\u001b[0m\u001b[0;34m.\u001b[0m\u001b[0misnull\u001b[0m\u001b[0;34m(\u001b[0m\u001b[0;34m)\u001b[0m\u001b[0;34m.\u001b[0m\u001b[0msum\u001b[0m\u001b[0;34m(\u001b[0m\u001b[0;34m)\u001b[0m\u001b[0;34m\u001b[0m\u001b[0m\n\u001b[0m",
      "\u001b[0;31mNameError\u001b[0m: name 'telecom_df' is not defined"
     ]
    }
   ],
   "source": [
    "telecom_df.isnull().sum()"
   ]
  },
  {
   "cell_type": "code",
   "execution_count": 106,
   "metadata": {},
   "outputs": [
    {
     "data": {
      "text/plain": [
       "['roam_ic_mou_6',\n",
       " 'roam_ic_mou_7',\n",
       " 'roam_ic_mou_8',\n",
       " 'roam_ic_mou_9',\n",
       " 'roam_og_mou_6',\n",
       " 'roam_og_mou_7',\n",
       " 'roam_og_mou_8',\n",
       " 'roam_og_mou_9']"
      ]
     },
     "execution_count": 106,
     "metadata": {},
     "output_type": "execute_result"
    }
   ],
   "source": [
    "telecom_df.isnull().sum()>0).sum()\n"
   ]
  },
  {
   "cell_type": "code",
   "execution_count": 87,
   "metadata": {},
   "outputs": [
    {
     "data": {
      "text/html": [
       "<div>\n",
       "<style scoped>\n",
       "    .dataframe tbody tr th:only-of-type {\n",
       "        vertical-align: middle;\n",
       "    }\n",
       "\n",
       "    .dataframe tbody tr th {\n",
       "        vertical-align: top;\n",
       "    }\n",
       "\n",
       "    .dataframe thead th {\n",
       "        text-align: right;\n",
       "    }\n",
       "</style>\n",
       "<table border=\"1\" class=\"dataframe\">\n",
       "  <thead>\n",
       "    <tr style=\"text-align: right;\">\n",
       "      <th></th>\n",
       "      <th>date_of_last_rech_6</th>\n",
       "      <th>date_of_last_rech_7</th>\n",
       "      <th>date_of_last_rech_8</th>\n",
       "      <th>date_of_last_rech_9</th>\n",
       "      <th>date_of_last_rech_data_6</th>\n",
       "      <th>date_of_last_rech_data_7</th>\n",
       "      <th>date_of_last_rech_data_8</th>\n",
       "      <th>date_of_last_rech_data_9</th>\n",
       "    </tr>\n",
       "  </thead>\n",
       "  <tbody>\n",
       "    <tr>\n",
       "      <th>0</th>\n",
       "      <td>1</td>\n",
       "      <td>1</td>\n",
       "      <td>1</td>\n",
       "      <td>1</td>\n",
       "      <td>1</td>\n",
       "      <td>1</td>\n",
       "      <td>1</td>\n",
       "      <td>0</td>\n",
       "    </tr>\n",
       "    <tr>\n",
       "      <th>1</th>\n",
       "      <td>1</td>\n",
       "      <td>1</td>\n",
       "      <td>1</td>\n",
       "      <td>1</td>\n",
       "      <td>0</td>\n",
       "      <td>1</td>\n",
       "      <td>1</td>\n",
       "      <td>0</td>\n",
       "    </tr>\n",
       "    <tr>\n",
       "      <th>2</th>\n",
       "      <td>1</td>\n",
       "      <td>1</td>\n",
       "      <td>1</td>\n",
       "      <td>1</td>\n",
       "      <td>0</td>\n",
       "      <td>0</td>\n",
       "      <td>0</td>\n",
       "      <td>1</td>\n",
       "    </tr>\n",
       "    <tr>\n",
       "      <th>3</th>\n",
       "      <td>1</td>\n",
       "      <td>1</td>\n",
       "      <td>1</td>\n",
       "      <td>1</td>\n",
       "      <td>0</td>\n",
       "      <td>0</td>\n",
       "      <td>0</td>\n",
       "      <td>0</td>\n",
       "    </tr>\n",
       "    <tr>\n",
       "      <th>4</th>\n",
       "      <td>1</td>\n",
       "      <td>1</td>\n",
       "      <td>1</td>\n",
       "      <td>1</td>\n",
       "      <td>1</td>\n",
       "      <td>0</td>\n",
       "      <td>0</td>\n",
       "      <td>0</td>\n",
       "    </tr>\n",
       "  </tbody>\n",
       "</table>\n",
       "</div>"
      ],
      "text/plain": [
       "   date_of_last_rech_6  date_of_last_rech_7  date_of_last_rech_8  \\\n",
       "0                    1                    1                    1   \n",
       "1                    1                    1                    1   \n",
       "2                    1                    1                    1   \n",
       "3                    1                    1                    1   \n",
       "4                    1                    1                    1   \n",
       "\n",
       "   date_of_last_rech_9  date_of_last_rech_data_6  date_of_last_rech_data_7  \\\n",
       "0                    1                         1                         1   \n",
       "1                    1                         0                         1   \n",
       "2                    1                         0                         0   \n",
       "3                    1                         0                         0   \n",
       "4                    1                         1                         0   \n",
       "\n",
       "   date_of_last_rech_data_8  date_of_last_rech_data_9  \n",
       "0                         1                         0  \n",
       "1                         1                         0  \n",
       "2                         0                         1  \n",
       "3                         0                         0  \n",
       "4                         0                         0  "
      ]
     },
     "execution_count": 87,
     "metadata": {},
     "output_type": "execute_result"
    }
   ],
   "source": [
    "dat[dc].head()"
   ]
  },
  {
   "cell_type": "code",
   "execution_count": 43,
   "metadata": {},
   "outputs": [
    {
     "data": {
      "text/plain": [
       "array([nan,  0.])"
      ]
     },
     "execution_count": 43,
     "metadata": {},
     "output_type": "execute_result"
    }
   ],
   "source": [
    "telecom_df['std_ic_t2o_mou_9'].unique()"
   ]
  },
  {
   "cell_type": "code",
   "execution_count": null,
   "metadata": {},
   "outputs": [],
   "source": []
  }
 ],
 "metadata": {
  "kernelspec": {
   "display_name": "Python 3",
   "language": "python",
   "name": "python3"
  },
  "language_info": {
   "codemirror_mode": {
    "name": "ipython",
    "version": 3
   },
   "file_extension": ".py",
   "mimetype": "text/x-python",
   "name": "python",
   "nbconvert_exporter": "python",
   "pygments_lexer": "ipython3",
   "version": "3.7.0"
  }
 },
 "nbformat": 4,
 "nbformat_minor": 2
}
